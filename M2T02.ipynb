{
 "cells": [
  {
   "cell_type": "markdown",
   "id": "e1859469",
   "metadata": {},
   "source": [
    "### Exercici 1: L'exercici consisteix a crear una funció que et classifiqui una variable numèrica en funció de l’escala Suspès/Aprovat/Notable/Excel·lent.\n",
    "\n",
    "Recorda que Suspès < 5, Aprovat > 5 i < 7, Notable > 7 i < 9 i Excel·lent > 9."
   ]
  },
  {
   "cell_type": "code",
   "execution_count": 1,
   "id": "1e89fbd2",
   "metadata": {},
   "outputs": [
    {
     "name": "stdout",
     "output_type": "stream",
     "text": [
      "La nota 7.5 és un Notable\n"
     ]
    }
   ],
   "source": [
    "def classificacio_nota(nota):\n",
    "    \n",
    "    if nota < 5:\n",
    "        return \"Suspès\"\n",
    "    \n",
    "    elif nota >= 5 and nota < 7:\n",
    "        return \"Aprovat\"\n",
    "        \n",
    "    elif nota >=7 and nota < 9:\n",
    "        return \"Notable\"\n",
    "    \n",
    "    elif nota >=9:\n",
    "        return \"Excel.lent\"\n",
    "    \n",
    "nota = 7.5\n",
    "    \n",
    "resultat = classificacio_nota(nota)\n",
    "    \n",
    "print(\"La nota\", nota, \"és un\", resultat)  "
   ]
  },
  {
   "cell_type": "markdown",
   "id": "36f45765",
   "metadata": {},
   "source": [
    "### Exercici 2: Utilitzant el següent tutorial crea una funció que et pregunti dos números. T’ha de mostrar un missatge dient si el primer és més gran, el segon és més gran o són iguals."
   ]
  },
  {
   "cell_type": "code",
   "execution_count": 35,
   "id": "b240e8de",
   "metadata": {},
   "outputs": [
    {
     "name": "stdout",
     "output_type": "stream",
     "text": [
      "Introdueix un número: 5\n",
      "Introdueix un altre número: 8.4\n",
      "El primer número és més petit\n"
     ]
    }
   ],
   "source": [
    "x = float(input(\"Introdueix un número: \")) \n",
    "y = float(input(\"Introdueix un altre número: \"))\n",
    "\n",
    "if x>y:\n",
    "  print('El primer número és més gran')\n",
    "elif x<y:\n",
    "  print('El primer número és més petit')\n",
    "else:\n",
    "  print('Els dos números són iguals')\n",
    "    \n",
    "    \n"
   ]
  },
  {
   "cell_type": "markdown",
   "id": "dfbe6172",
   "metadata": {},
   "source": [
    "### Exercici 3: Crea una funció que et pregunti el teu nom, i et demani un número. Si el número és 0, hauria de mostrar un missatge d’error. En cas contrari, hauria de mostrar el nom repetit tants cops com indiqui el número. Per exemple, “Joan Joan Joan”."
   ]
  },
  {
   "cell_type": "code",
   "execution_count": 47,
   "id": "9bd21d26",
   "metadata": {},
   "outputs": [
    {
     "name": "stdout",
     "output_type": "stream",
     "text": [
      "Quin és el teu nom? alex\n",
      "Introdueix un número: 7\n",
      "alexalexalexalexalexalexalex\n"
     ]
    }
   ],
   "source": [
    "nom = input(\"Quin és el teu nom? \")\n",
    "num = int(input(\"Introdueix un número: \"))\n",
    "\n",
    "resultat = (nom * num)\n",
    "\n",
    "print(resultat)\n",
    "\n",
    "if num == 0:\n",
    "    print('error')\n"
   ]
  },
  {
   "cell_type": "markdown",
   "id": "69e8657b",
   "metadata": {},
   "source": [
    "### Exercici 4: Crea una funció que donada una llista qualsevol, et digui si és simètrica o no. Si ho és, que et digui quants elements té."
   ]
  },
  {
   "cell_type": "code",
   "execution_count": 9,
   "id": "0db113ff",
   "metadata": {},
   "outputs": [
    {
     "name": "stdout",
     "output_type": "stream",
     "text": [
      "La lista 1 és simètrica i té 7 elements\n",
      "La llista 2 no és simètrica\n"
     ]
    }
   ],
   "source": [
    "llista1 = [5, 8, 12, 4, 12, 8, 5]    #ejemplo con lista simétrica\n",
    "llista2 = [3, 5, 9, 2, 2, 10, 7]     #ejemplo con lista no simétrica\n",
    "\n",
    "\n",
    "def simetrica(llista1):\n",
    "    \n",
    "    return llista1 == llista1[::-1]\n",
    "\n",
    "def simetrica2(llista2):\n",
    "    return llista2 == llista2[::-1]\n",
    "\n",
    "\n",
    "\n",
    "\n",
    "if simetrica(llista1):\n",
    "    print(\"La lista 1 és simètrica i té\", len(llista1), \"elements\")\n",
    "else:\n",
    "    print(\"La lista 1 no és simètrica\")\n",
    "\n",
    "\n",
    "if simetrica2(llista2):\n",
    "    print(\"La llista 2 és simètrica i té\", len(llista2), \"elements\")\n",
    "else:\n",
    "    print(\"La llista 2 no és simètrica\")\n"
   ]
  },
  {
   "cell_type": "markdown",
   "id": "4e39589c",
   "metadata": {},
   "source": [
    "### Exercici 5: Crea una funció que donada una llista, et digui quants números coincideixen amb la seva posició. Per exemple [3,4,2,0,2,3,6] el 2 i el 6 coincideixen."
   ]
  },
  {
   "cell_type": "code",
   "execution_count": 16,
   "id": "17d17623",
   "metadata": {},
   "outputs": [
    {
     "name": "stdout",
     "output_type": "stream",
     "text": [
      "Els següents núemeros coincideixen: [6, 1, 7, 9]\n"
     ]
    }
   ],
   "source": [
    "llista = [3,6,7,6,1,0,4,1,9,2,7,9]\n",
    "\n",
    "repetits = []\n",
    "arxiu = []\n",
    "\n",
    "for n in llista:\n",
    "    if n not in arxiu:\n",
    "        arxiu.append(n)\n",
    "    else: \n",
    "        repetits.append(n)\n",
    "\n",
    "                \n",
    "print(\"Els següents núemeros coincideixen:\" ,repetits)\n"
   ]
  },
  {
   "cell_type": "code",
   "execution_count": null,
   "id": "ea6d5519",
   "metadata": {},
   "outputs": [],
   "source": []
  }
 ],
 "metadata": {
  "kernelspec": {
   "display_name": "Python 3 (ipykernel)",
   "language": "python",
   "name": "python3"
  },
  "language_info": {
   "codemirror_mode": {
    "name": "ipython",
    "version": 3
   },
   "file_extension": ".py",
   "mimetype": "text/x-python",
   "name": "python",
   "nbconvert_exporter": "python",
   "pygments_lexer": "ipython3",
   "version": "3.10.9"
  }
 },
 "nbformat": 4,
 "nbformat_minor": 5
}
